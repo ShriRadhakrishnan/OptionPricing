{
 "cells": [
  {
   "cell_type": "markdown",
   "metadata": {},
   "source": [
    "## Binomial Option Pricing\n",
    "\n",
    "Implementing a Binomial Pricing Models in few ways."
   ]
  },
  {
   "cell_type": "code",
   "execution_count": 3,
   "metadata": {},
   "outputs": [],
   "source": [
    "#Imports\n",
    "import numpy as np\n"
   ]
  },
  {
   "cell_type": "markdown",
   "metadata": {},
   "source": [
    "## Binomial Tree Representation\n",
    "\n",
    "The Stock tree can be represented using nodes (i, j) and initial stock price $S_{i,j} = S_{0}u^jd^{i-j}$\n",
    "\n"
   ]
  },
  {
   "cell_type": "markdown",
   "metadata": {},
   "source": [
    "$C_{i,j}$ represents a final payoff function that we can define. $C_{N,j}$ represents the contract price at each node (i, j). \n",
    "Here we are pricing a European Call \n",
    "$C_{N, j} = max(S_{N, j} - K,0)$"
   ]
  },
  {
   "cell_type": "code",
   "execution_count": 22,
   "metadata": {},
   "outputs": [],
   "source": [
    "# Parameters\n",
    "S0 = 100 # Initial Stock Price\n",
    "K = 100 # Strike Price\n",
    "T = 1 # Time to Maturity\n",
    "r = 0.05 # Annual Risk-free rate\n",
    "N = 3 # Number of time steps\n",
    "u = 1.1 # Up factor in binomial model\n",
    "d = 1/u # ensure binomial tree recombines\n",
    "option_type = 'C' #C or P for call or put"
   ]
  },
  {
   "cell_type": "markdown",
   "metadata": {},
   "source": [
    "# Slow implementation of Binomial Tree"
   ]
  },
  {
   "cell_type": "code",
   "execution_count": 23,
   "metadata": {},
   "outputs": [],
   "source": [
    "def slow_binomial_tree(S0, K, T, r, N, u, d):\n",
    "    #precompute constants\n",
    "    dt = T/N #This is the time step\n",
    "    q = (np.exp(r*dt)-d) / (u-d) #Risk-neutral probability of up movement\n",
    "    discount = np.exp(-r*dt) #Discount factor\n",
    "\n",
    "    #Initialize asset prices at maturity at t = N\n",
    "\n",
    "    S = np.zeros(N+1)\n",
    "    S[0] = S0 * d**N #Price at the bottom of the binomial tree at the end\n",
    "    for j in range(1, N+1):\n",
    "        S[j] = S[j-1] * u/d \n",
    "        #Dividing by d allows us to go back 1 step\n",
    "        #Multiplying by u allows us to go up 1 step\n",
    "\n",
    "    #Initialize option payoffs at maturity\n",
    "    C = np.zeros(N+1)\n",
    "    for j in range(0, N+1):\n",
    "        C[j] = max(S[j]-K, 0)\n",
    "    \n",
    "    # Step back through the tree\n",
    "\n",
    "    for i in np.arange(N, 0, -1):\n",
    "        for j in range(0, i):\n",
    "            C[j] = discount * (q * C[j+1] + (1-q) *C[j])\n",
    "            #This is the binomial tree formula\n",
    "    \n",
    "    return C[0]\n"
   ]
  },
  {
   "cell_type": "code",
   "execution_count": 24,
   "metadata": {},
   "outputs": [
    {
     "data": {
      "text/plain": [
       "9.614332823683377"
      ]
     },
     "execution_count": 24,
     "metadata": {},
     "output_type": "execute_result"
    }
   ],
   "source": [
    "slow_binomial_tree(S0, K, T, r, N, u, d)"
   ]
  },
  {
   "cell_type": "markdown",
   "metadata": {},
   "source": [
    "# Fast Implementation of Binomial Tree"
   ]
  },
  {
   "cell_type": "code",
   "execution_count": 25,
   "metadata": {},
   "outputs": [
    {
     "data": {
      "text/plain": [
       "9.614332823683386"
      ]
     },
     "execution_count": 25,
     "metadata": {},
     "output_type": "execute_result"
    }
   ],
   "source": [
    "def fast_binomial_tree(S0, K, T, r, N, u, d):\n",
    "    #precompute constants\n",
    "    dt = T/N #This is the time step\n",
    "    q = (np.exp(r*dt)-d) / (u-d) #Risk-neutral probability of up movement\n",
    "    discount = np.exp(-r*dt) #Discount factor\n",
    "\n",
    "    #Initialize asset prices at maturity at t = N\n",
    "\n",
    "    C = S0 * d**(np.arange(N, -1, -1)) * u**(np.arange(N+1))\n",
    "\n",
    "    #Initialize option payoffs at maturity at t = N\n",
    "\n",
    "    C = np.maximum(C - K, 0)\n",
    "    \n",
    "    # Step back through the tree\n",
    "\n",
    "\n",
    "\n",
    "    for i in np.arange(N, 0, -1):\n",
    "        C = discount * (q * C[1:i+1] + (1-q) *C[0:i])\n",
    "            #This is the binomial tree formula\n",
    "    \n",
    "    return C[0]\n",
    "fast_binomial_tree(S0, K, T, r, N, u, d)"
   ]
  },
  {
   "cell_type": "markdown",
   "metadata": {},
   "source": [
    "Here let's price an American Option"
   ]
  },
  {
   "cell_type": "markdown",
   "metadata": {},
   "source": [
    "# American Option Characteristics\n",
    "For an American Put Option\n",
    "if $T = t_N$ then at the terminal nodes, $C^{j}_N = (K-S^{j}_N)^{+}$\n",
    "\n",
    "for all other parts of the tree at nodes $(i,j)$\n",
    "\n",
    "- Max of exercise value or continuation/hold value\n",
    "\n",
    "- $C^{j}_i = \\max \\Big((K-S^{j}_i)^{+}, \\exp^{-r\\Delta t} \\big\\{ q^{j}_i C^{j+1}_{i+1} + (1 - q^{j}_i)C^{j-1}_{i-1}\\big\\}\\Big)$"
   ]
  },
  {
   "cell_type": "code",
   "execution_count": 33,
   "metadata": {},
   "outputs": [],
   "source": [
    "# Initialize Parameters\n",
    "S0 = 100 # Initial Stock Price\n",
    "K = 100 # Strike Price\n",
    "T = 1 # Time to Maturity\n",
    "r = 0.06 # Annual Risk-free rate\n",
    "N = 3 # Number of time steps\n",
    "u = 1.1 # Up factor in binomial model\n",
    "d = 1/u # ensure binomial tree recombines\n",
    "option_type = 'P' #C or P for call or put"
   ]
  },
  {
   "cell_type": "code",
   "execution_count": 34,
   "metadata": {},
   "outputs": [
    {
     "data": {
      "text/plain": [
       "4.654588754602527"
      ]
     },
     "execution_count": 34,
     "metadata": {},
     "output_type": "execute_result"
    }
   ],
   "source": [
    "def slow_american_tree(S0, K, T, r, N, u, d, option_type):\n",
    "    #precompute constants\n",
    "    dt = T/N #This is the time step\n",
    "    q = (np.exp(r*dt)-d) / (u-d) #Risk-neutral probability of up movement\n",
    "    discount = np.exp(-r*dt) #Discount factor\n",
    "\n",
    "    #Initialize asset prices at maturity at t = N\n",
    "\n",
    "    S = np.zeros(N+1)\n",
    "    for j in range(0, N+1):\n",
    "        S[j] = S0 * u**j * d**(N-j)\n",
    "    \n",
    "    #Initialize option payoffs at maturity\n",
    "\n",
    "    C = np.zeros(N+1)\n",
    "    for j in range(0, N+1):\n",
    "        if option_type == 'C':\n",
    "            C[j] = max(S[j]-K, 0)\n",
    "        else:\n",
    "            C[j] = max(K-S[j], 0)\n",
    "\n",
    "    # Step back through the tree\n",
    "    for i in np.arange(N-1, -1, -1):\n",
    "        for j in range(0, i+1):\n",
    "            S = S0 * u**j * d**(i-j)\n",
    "            C[j] = discount * (q * C[j+1] + (1-q) *C[j])\n",
    "            if option_type == 'C':\n",
    "                C[j] = max(C[j], S-K)\n",
    "            else:\n",
    "                C[j] = max(C[j], K-S)\n",
    "        \n",
    "    return C[0]\n",
    "\n",
    "slow_american_tree(S0, K, T, r, N, u, d, option_type)"
   ]
  },
  {
   "cell_type": "code",
   "execution_count": 36,
   "metadata": {},
   "outputs": [
    {
     "data": {
      "text/plain": [
       "4.654588754602527"
      ]
     },
     "execution_count": 36,
     "metadata": {},
     "output_type": "execute_result"
    }
   ],
   "source": [
    "def fast_american_tree(S0, K, T, r, N, u, d, option_type):\n",
    "    #precompute constants\n",
    "    dt = T/N #This is the time step\n",
    "    q = (np.exp(r*dt)-d) / (u-d) #Risk-neutral probability of up movement\n",
    "    discount = np.exp(-r*dt) #Discount factor\n",
    "\n",
    "    #Initialize asset prices at maturity at t = N\n",
    "\n",
    "    S = S0 * d**(np.arange(N, -1, -1)) * u**(np.arange(N+1))\n",
    "    \n",
    "    #Initialize option payoffs at maturity\n",
    "\n",
    "\n",
    "    if option_type == 'C':\n",
    "        C = np.maximum(S-K, 0)\n",
    "    else:\n",
    "        C = np.maximum(K-S, 0)\n",
    "\n",
    "    # Step back through the tree\n",
    "    for i in np.arange(N-1, -1, -1):\n",
    "        S = S0 * d**(np.arange(i, -1, -1)) * u**(np.arange(i+1))\n",
    "        C[:i+1] = discount * (q * C[1:i+2] + (1-q) *C[0:i+1])\n",
    "        C = C[:-1]\n",
    "        if option_type == 'C':\n",
    "            C = np.maximum(C, S-K)\n",
    "        else:\n",
    "            C = np.maximum(C, K-S)\n",
    "    \n",
    "    return C[0]\n",
    "fast_american_tree(S0, K, T, r, N, u, d, option_type)"
   ]
  },
  {
   "cell_type": "markdown",
   "metadata": {},
   "source": [
    "## Black Scholes Option Pricing"
   ]
  },
  {
   "cell_type": "code",
   "execution_count": 37,
   "metadata": {},
   "outputs": [],
   "source": [
    "import numpy as np\n",
    "from scipy.stats import norm"
   ]
  },
  {
   "cell_type": "code",
   "execution_count": 38,
   "metadata": {},
   "outputs": [],
   "source": [
    "#Define Variables\n",
    "r = 0.05 # Risk-free rate\n",
    "S0 = 100 # Initial Stock Price\n",
    "K = 100 # Strike Price\n",
    "T = 240/365 # Time to Maturity\\\n",
    "sigma = 0.2 # Volatility"
   ]
  },
  {
   "cell_type": "code",
   "execution_count": 39,
   "metadata": {},
   "outputs": [
    {
     "data": {
      "text/plain": [
       "8.105343276254992"
      ]
     },
     "execution_count": 39,
     "metadata": {},
     "output_type": "execute_result"
    }
   ],
   "source": [
    "def blackScholes(r, S, K, T, sigma, option_type):\n",
    "    #Calculate Black Scholes price for call or put option\n",
    "\n",
    "    d1 = (np.log(S/K) + (r + (sigma**2)/2) * T) / (sigma * np.sqrt(T)) \n",
    "    d2 = d1 - sigma*np.sqrt(T)\n",
    "\n",
    "    if option_type == 'C':\n",
    "        price = S * norm.cdf(d1, 0, 1) - K * np.exp(-r * T) * norm.cdf(d2, 0, 1)\n",
    "    elif option_type == 'P':\n",
    "        price = K * np.exp(-r * T) * norm.cdf(-d2) - S * norm.cdf(-d1)\n",
    "    return price\n",
    "\n",
    "blackScholes(r, S0, K, T, sigma, 'C')"
   ]
  },
  {
   "cell_type": "markdown",
   "metadata": {},
   "source": [
    "# Monte Carlo Simulation"
   ]
  },
  {
   "cell_type": "markdown",
   "metadata": {},
   "source": []
  }
 ],
 "metadata": {
  "kernelspec": {
   "display_name": "Python 3",
   "language": "python",
   "name": "python3"
  },
  "language_info": {
   "codemirror_mode": {
    "name": "ipython",
    "version": 3
   },
   "file_extension": ".py",
   "mimetype": "text/x-python",
   "name": "python",
   "nbconvert_exporter": "python",
   "pygments_lexer": "ipython3",
   "version": "3.9.6"
  }
 },
 "nbformat": 4,
 "nbformat_minor": 2
}
